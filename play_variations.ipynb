{
 "cells": [
  {
   "cell_type": "markdown",
   "metadata": {},
   "source": [
    "# Play Engine Demonstration Notebook"
   ]
  },
  {
   "cell_type": "code",
   "execution_count": null,
   "metadata": {},
   "outputs": [],
   "source": [
    "# This Cell brings in the \"Play\" class which drives the generation process\n",
    "\n",
    "from play_engine import Play"
   ]
  },
  {
   "cell_type": "code",
   "execution_count": null,
   "metadata": {},
   "outputs": [],
   "source": [
    "# This Cell defines the variation function that the engine will use to generate new text. In this case, GPT3 via their API is used. The API Key is stored in a .env file.\n",
    "\n",
    "from dotenv import load_dotenv\n",
    "import os\n",
    "import openai\n",
    "\n",
    "load_dotenv()\n",
    "openai.api_key = os.getenv('GPT3_KEY')\n",
    "\n",
    "def gpt3_variation(prompt):\n",
    "    response = openai.Completion.create(\n",
    "        engine=\"davinci\",\n",
    "        prompt=prompt,\n",
    "        temperature=0.7,\n",
    "        max_tokens=50,\n",
    "        top_p=1,\n",
    "        frequency_penalty=0,\n",
    "        presence_penalty=0,\n",
    "        stop=[\"\\n\"]\n",
    "    )\n",
    "    return response.choices[0].text"
   ]
  },
  {
   "cell_type": "code",
   "execution_count": null,
   "metadata": {},
   "outputs": [],
   "source": [
    "# This will generate 4 variations (plus an original) of the scene from \"Taminng of the Shrew\" in shrew.txt. Each variation has progressively more changes\n",
    "\n",
    "shrew = Play(\"formatted_scripts/shrew.txt\", gpt3_variation)\n",
    "\n",
    "for x in range (5):\n",
    "    variation_chance = 0.25 * x\n",
    "    # The third argument to \"make_variations\" defines how many lines to protect (not ever overwrite) at the beginning of the script\n",
    "    shrew.make_variations(variation_chance, False, 2, 10)\n",
    "    shrew.save_current_script(f\"shrew_variations/shrew_{x}.txt\")"
   ]
  },
  {
   "cell_type": "code",
   "execution_count": null,
   "metadata": {},
   "outputs": [],
   "source": [
    "# This will generate 4 variations (plus an original) of the scene from \"Play (Play)\" in play.txt. Each variation has progressively more changes\n",
    "\n",
    "play = Play(\"formatted_scripts/play.txt\", gpt3_variation)\n",
    "\n",
    "for x in range (5):\n",
    "    variation_chance = 0.25 * x\n",
    "    play.make_variations(variation_chance, False, 4, 10, True)\n",
    "    play.save_current_script(f\"play_variations/play_{x}.txt\")\n"
   ]
  }
 ],
 "metadata": {
  "interpreter": {
   "hash": "b0a353be2d1816379b3313d4115ae1b4e88161508471357dace0801c1d4e5e96"
  },
  "kernelspec": {
   "display_name": "Python 3.8.12 64-bit ('play_app': pyenv)",
   "language": "python",
   "name": "python3"
  },
  "language_info": {
   "codemirror_mode": {
    "name": "ipython",
    "version": 3
   },
   "file_extension": ".py",
   "mimetype": "text/x-python",
   "name": "python",
   "nbconvert_exporter": "python",
   "pygments_lexer": "ipython3",
   "version": "3.8.12"
  },
  "orig_nbformat": 4
 },
 "nbformat": 4,
 "nbformat_minor": 2
}
